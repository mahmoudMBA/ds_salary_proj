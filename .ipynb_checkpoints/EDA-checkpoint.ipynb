{
 "cells": [
  {
   "cell_type": "code",
   "execution_count": 1,
   "metadata": {},
   "outputs": [],
   "source": [
    "import pandas as pd\n",
    "import numpy as np\n",
    "import matplotlib.pyplot as plt\n",
    "import seaborn as sns"
   ]
  },
  {
   "cell_type": "code",
   "execution_count": 3,
   "metadata": {},
   "outputs": [],
   "source": [
    "df=pd.read_csv('DS_salary_cleaned.csv')"
   ]
  },
  {
   "cell_type": "code",
   "execution_count": 8,
   "metadata": {},
   "outputs": [
    {
     "data": {
      "text/plain": [
       "Data Scientist                                                                                   835\n",
       "Data Engineer                                                                                    117\n",
       "Senior Data Scientist                                                                            115\n",
       "Senior Data Engineer                                                                              31\n",
       "Principal Data Scientist                                                                          17\n",
       "Lead Data Scientist                                                                               15\n",
       "Data Developer (Future Opportunities)                                                             14\n",
       "Associate Scientist, LCMS                                                                         14\n",
       "Senior/Principal Scientist, Protein Sciences                                                      13\n",
       "Sr Principal Data Scientist                                                                       13\n",
       "Insurance Data Scientist                                                                          12\n",
       "Big Data Engineer                                                                                 12\n",
       "Senior Machine Learning (ML) Engineer / Data Scientist - Cyber Security Analytics                 12\n",
       "Data Engineer Manager                                                                             12\n",
       "Senior Method Development Scientist (Future Opportunities                                         12\n",
       "Senior Scientist, DMPK/Clinical Pharmacology                                                      12\n",
       "Senior Scientist - Biostatistician                                                                12\n",
       "VP, Data Science                                                                                  12\n",
       "Lead Data Engineer                                                                                11\n",
       "Principal / Sr Principal Data Scientist                                                           11\n",
       "Cyber Senior Scientist / Engineer                                                                 11\n",
       "Senior Associate Scientist, Experimental Pharmacology                                             11\n",
       "Senior Scientist - Statistician (Product Integrity)                                               11\n",
       "Scientist, Population Genomics                                                                    10\n",
       "Managing Data Scientist/ML Engineer                                                               10\n",
       "Big Data Engineer - Chicago - Future Opportunity                                                  10\n",
       "Associate Scientist / Sr. Associate Scientist, Antibody Discovery                                  9\n",
       "Associate Scientist, LC/MS Biologics                                                               9\n",
       "Data Analyst                                                                                       9\n",
       "Senior Associate Scientist II, Vector Characterization                                             9\n",
       "                                                                                                ... \n",
       "Scientist, Biology                                                                                 2\n",
       "Data Scientist (Actuary, FSA or ASA)                                                               2\n",
       "Sr. Associate Scientist / Scientist I, Antibody Engineering                                        2\n",
       "Research Scientist - Statistician                                                                  2\n",
       "Data Scientist, Machine Learning - Game Matchmaking                                                2\n",
       "Data Scientist opportunity with Non-Profit client! Virtual Interview, Immediate Remote Start!      2\n",
       "Scientist - Analytical Development - Pharmaceutics                                                 2\n",
       "UX Data Scientist (Python)                                                                         2\n",
       "Risk and Analytics IT, Data Scientist                                                              2\n",
       "Data Scientist II                                                                                  2\n",
       "Data Scientist (Federal)                                                                           2\n",
       "Associate Scientist                                                                                2\n",
       "Food Scientist                                                                                     2\n",
       "Data Scientist - Consultant - National                                                             2\n",
       "Data Infrastructure Engineer (Sensia)                                                              2\n",
       "Scientist I, Chemistry                                                                             1\n",
       "Data Scientist Technical Specialist                                                                1\n",
       "(Junior) Data Scientist - Supply Chain & Operations                                                1\n",
       "Immunoassay Scientist (Future Opportunities )                                                      1\n",
       "Data Scientist - Ad Tech                                                                           1\n",
       "MED TECH/LAB SCIENTIST - LAB                                                                       1\n",
       "Bakery Food Scientist                                                                              1\n",
       "Senior Data Scientist Artificial Intelligence                                                      1\n",
       "Bioinformatics Data Analyst                                                                        1\n",
       "Associate Scientist, In Vivo                                                                       1\n",
       "Cloud Data Engineer                                                                                1\n",
       "Immunohematology Laboratory (IRL) Scientist (3rd Shift)                                            1\n",
       "Senior Scientist, Biomarker Science                                                                1\n",
       "Operations Research Scientist Intern                                                               1\n",
       "Data Architect (New Position)                                                                      1\n",
       "Name: Job Title, Length: 200, dtype: int64"
      ]
     },
     "execution_count": 8,
     "metadata": {},
     "output_type": "execute_result"
    }
   ],
   "source": [
    "df['Job Title'].value_counts()"
   ]
  },
  {
   "cell_type": "code",
   "execution_count": 7,
   "metadata": {},
   "outputs": [
    {
     "data": {
      "text/plain": [
       "Index(['Company Name', 'Competitors', 'Founded', 'Headquarters', 'Industry',\n",
       "       'Job Description', 'Job Title', 'Location', 'Rating', 'Revenue',\n",
       "       'Salary Estimate', 'Sector', 'Size', 'Type of ownership', 'min_salary',\n",
       "       'max_salary', 'avg_salary', 'City', 'State', 'Country', 'At_hq',\n",
       "       'Company_age', 'Python', 'R', 'Spark', 'AWS', 'Excel', 'Hadoop',\n",
       "       'Tableau', 'Power_bi', 'BI', 'Min_revenue', 'Max_revenue',\n",
       "       'Average_revenue'],\n",
       "      dtype='object')"
      ]
     },
     "execution_count": 7,
     "metadata": {},
     "output_type": "execute_result"
    }
   ],
   "source": [
    "df.columns"
   ]
  },
  {
   "cell_type": "markdown",
   "metadata": {},
   "source": [
    "Return the job position title"
   ]
  },
  {
   "cell_type": "code",
   "execution_count": 9,
   "metadata": {},
   "outputs": [],
   "source": [
    "def title_simplifier(title):\n",
    "    if 'data scientist' in title.lower():\n",
    "        return 'data scientist'\n",
    "    elif 'data engineer' in title.lower():\n",
    "        return 'data engineer'\n",
    "    elif 'analyst' in title.lower():\n",
    "        return 'analyst'\n",
    "    elif 'machine learning' in title.lower():\n",
    "        return 'machine learning'\n",
    "    elif 'manager' in title.lower():\n",
    "        return 'manager'\n",
    "    elif 'director' in title.lower():\n",
    "        return 'director'\n",
    "    else:\n",
    "        return 'na'"
   ]
  },
  {
   "cell_type": "code",
   "execution_count": 18,
   "metadata": {},
   "outputs": [],
   "source": [
    "df['Job Simplified']=df['Job Title'].apply(title_simplifier)"
   ]
  },
  {
   "cell_type": "markdown",
   "metadata": {},
   "source": [
    "Specify if it's an entry level position or not"
   ]
  },
  {
   "cell_type": "code",
   "execution_count": 10,
   "metadata": {},
   "outputs": [],
   "source": [
    "def seniority(title):\n",
    "    if 'sr' in title.lower() or 'senior' in title.lower() or 'lead' in title.lower() or 'principal' in title.lower():\n",
    "        return 'senior'\n",
    "    elif 'jr' in title.lower() or 'junior' in title.lower() or 'jr.' in title.lower():\n",
    "        return 'junior'\n",
    "    else:\n",
    "        return 'na'"
   ]
  },
  {
   "cell_type": "code",
   "execution_count": 24,
   "metadata": {},
   "outputs": [],
   "source": [
    "df['Job Senioriry']=df['Job Description'].apply(seniority)"
   ]
  },
  {
   "cell_type": "markdown",
   "metadata": {},
   "source": [
    "Job description length"
   ]
  },
  {
   "cell_type": "code",
   "execution_count": 28,
   "metadata": {},
   "outputs": [],
   "source": [
    "df['Desc Length']=df['Job Description'].apply(lambda x : len(x))"
   ]
  },
  {
   "cell_type": "markdown",
   "metadata": {},
   "source": [
    "Number of Competitors"
   ]
  },
  {
   "cell_type": "code",
   "execution_count": 37,
   "metadata": {},
   "outputs": [],
   "source": [
    "df['Competitors Length']=df['Competitors'].apply(lambda x:len(x.split(',')) if x !='-1' else 0) "
   ]
  },
  {
   "cell_type": "markdown",
   "metadata": {},
   "source": [
    "Take out the \\n at the end of companies names"
   ]
  },
  {
   "cell_type": "code",
   "execution_count": 41,
   "metadata": {},
   "outputs": [],
   "source": [
    "df['Company Name']=df['Company Name'].apply(lambda x:x.replace('\\n',''))"
   ]
  },
  {
   "cell_type": "markdown",
   "metadata": {},
   "source": [
    "# EDA"
   ]
  },
  {
   "cell_type": "code",
   "execution_count": 44,
   "metadata": {},
   "outputs": [
    {
     "name": "stdout",
     "output_type": "stream",
     "text": [
      "<class 'pandas.core.frame.DataFrame'>\n",
      "RangeIndex: 2000 entries, 0 to 1999\n",
      "Data columns (total 38 columns):\n",
      "Company Name          2000 non-null object\n",
      "Competitors           2000 non-null object\n",
      "Founded               2000 non-null int64\n",
      "Headquarters          2000 non-null object\n",
      "Industry              2000 non-null object\n",
      "Job Description       2000 non-null object\n",
      "Job Title             2000 non-null object\n",
      "Location              2000 non-null object\n",
      "Rating                2000 non-null float64\n",
      "Revenue               2000 non-null object\n",
      "Salary Estimate       2000 non-null object\n",
      "Sector                2000 non-null object\n",
      "Size                  2000 non-null object\n",
      "Type of ownership     2000 non-null object\n",
      "min_salary            2000 non-null int64\n",
      "max_salary            2000 non-null int64\n",
      "avg_salary            2000 non-null float64\n",
      "City                  2000 non-null object\n",
      "State                 2000 non-null object\n",
      "Country               2000 non-null object\n",
      "At_hq                 2000 non-null int64\n",
      "Company_age           2000 non-null int64\n",
      "Python                2000 non-null int64\n",
      "R                     2000 non-null int64\n",
      "Spark                 2000 non-null int64\n",
      "AWS                   2000 non-null int64\n",
      "Excel                 2000 non-null int64\n",
      "Hadoop                2000 non-null int64\n",
      "Tableau               2000 non-null int64\n",
      "Power_bi              2000 non-null int64\n",
      "BI                    2000 non-null int64\n",
      "Min_revenue           2000 non-null int64\n",
      "Max_revenue           2000 non-null int64\n",
      "Average_revenue       2000 non-null float64\n",
      "Job Simplified        2000 non-null object\n",
      "Job Senioriry         2000 non-null object\n",
      "Desc Length           2000 non-null int64\n",
      "Competitors Length    2000 non-null int64\n",
      "dtypes: float64(3), int64(18), object(17)\n",
      "memory usage: 593.8+ KB\n"
     ]
    }
   ],
   "source": [
    "df.info()"
   ]
  },
  {
   "cell_type": "code",
   "execution_count": 63,
   "metadata": {},
   "outputs": [],
   "source": [
    "numerical_cols=df.select_dtypes(exclude='object')\n",
    "categorical_cols=df.select_dtypes(include='object')"
   ]
  },
  {
   "cell_type": "code",
   "execution_count": 64,
   "metadata": {},
   "outputs": [
    {
     "data": {
      "text/html": [
       "<div>\n",
       "<style scoped>\n",
       "    .dataframe tbody tr th:only-of-type {\n",
       "        vertical-align: middle;\n",
       "    }\n",
       "\n",
       "    .dataframe tbody tr th {\n",
       "        vertical-align: top;\n",
       "    }\n",
       "\n",
       "    .dataframe thead th {\n",
       "        text-align: right;\n",
       "    }\n",
       "</style>\n",
       "<table border=\"1\" class=\"dataframe\">\n",
       "  <thead>\n",
       "    <tr style=\"text-align: right;\">\n",
       "      <th></th>\n",
       "      <th>Founded</th>\n",
       "      <th>Rating</th>\n",
       "      <th>min_salary</th>\n",
       "      <th>max_salary</th>\n",
       "      <th>avg_salary</th>\n",
       "      <th>At_hq</th>\n",
       "      <th>Company_age</th>\n",
       "      <th>Python</th>\n",
       "      <th>R</th>\n",
       "      <th>Spark</th>\n",
       "      <th>...</th>\n",
       "      <th>Excel</th>\n",
       "      <th>Hadoop</th>\n",
       "      <th>Tableau</th>\n",
       "      <th>Power_bi</th>\n",
       "      <th>BI</th>\n",
       "      <th>Min_revenue</th>\n",
       "      <th>Max_revenue</th>\n",
       "      <th>Average_revenue</th>\n",
       "      <th>Desc Length</th>\n",
       "      <th>Competitors Length</th>\n",
       "    </tr>\n",
       "  </thead>\n",
       "  <tbody>\n",
       "    <tr>\n",
       "      <th>count</th>\n",
       "      <td>2000.000000</td>\n",
       "      <td>2000.000000</td>\n",
       "      <td>2000.00000</td>\n",
       "      <td>2000.000000</td>\n",
       "      <td>2000.000000</td>\n",
       "      <td>2000.000000</td>\n",
       "      <td>2000.000000</td>\n",
       "      <td>2000.000000</td>\n",
       "      <td>2000.000000</td>\n",
       "      <td>2000.000000</td>\n",
       "      <td>...</td>\n",
       "      <td>2000.000000</td>\n",
       "      <td>2000.000000</td>\n",
       "      <td>2000.000000</td>\n",
       "      <td>2000.000000</td>\n",
       "      <td>2000.000000</td>\n",
       "      <td>2000.000000</td>\n",
       "      <td>2000.000000</td>\n",
       "      <td>2000.000000</td>\n",
       "      <td>2000.000000</td>\n",
       "      <td>2000.000000</td>\n",
       "    </tr>\n",
       "    <tr>\n",
       "      <th>mean</th>\n",
       "      <td>1679.432000</td>\n",
       "      <td>3.537400</td>\n",
       "      <td>81.33700</td>\n",
       "      <td>111.820000</td>\n",
       "      <td>96.578500</td>\n",
       "      <td>0.381500</td>\n",
       "      <td>30.344500</td>\n",
       "      <td>0.667000</td>\n",
       "      <td>0.128000</td>\n",
       "      <td>0.273000</td>\n",
       "      <td>...</td>\n",
       "      <td>0.042500</td>\n",
       "      <td>0.219500</td>\n",
       "      <td>0.170500</td>\n",
       "      <td>0.046000</td>\n",
       "      <td>0.044500</td>\n",
       "      <td>1340.362000</td>\n",
       "      <td>1698.909500</td>\n",
       "      <td>1519.635750</td>\n",
       "      <td>3615.448500</td>\n",
       "      <td>0.720000</td>\n",
       "    </tr>\n",
       "    <tr>\n",
       "      <th>std</th>\n",
       "      <td>716.684585</td>\n",
       "      <td>1.259919</td>\n",
       "      <td>25.19162</td>\n",
       "      <td>26.778913</td>\n",
       "      <td>25.116832</td>\n",
       "      <td>0.485876</td>\n",
       "      <td>38.533093</td>\n",
       "      <td>0.471404</td>\n",
       "      <td>0.334173</td>\n",
       "      <td>0.445612</td>\n",
       "      <td>...</td>\n",
       "      <td>0.201777</td>\n",
       "      <td>0.414011</td>\n",
       "      <td>0.376166</td>\n",
       "      <td>0.209537</td>\n",
       "      <td>0.206255</td>\n",
       "      <td>3085.853188</td>\n",
       "      <td>3368.311236</td>\n",
       "      <td>3194.491176</td>\n",
       "      <td>1683.068872</td>\n",
       "      <td>1.224479</td>\n",
       "    </tr>\n",
       "    <tr>\n",
       "      <th>min</th>\n",
       "      <td>-1.000000</td>\n",
       "      <td>-1.000000</td>\n",
       "      <td>31.00000</td>\n",
       "      <td>59.000000</td>\n",
       "      <td>47.000000</td>\n",
       "      <td>0.000000</td>\n",
       "      <td>0.000000</td>\n",
       "      <td>0.000000</td>\n",
       "      <td>0.000000</td>\n",
       "      <td>0.000000</td>\n",
       "      <td>...</td>\n",
       "      <td>0.000000</td>\n",
       "      <td>0.000000</td>\n",
       "      <td>0.000000</td>\n",
       "      <td>0.000000</td>\n",
       "      <td>0.000000</td>\n",
       "      <td>0.000000</td>\n",
       "      <td>0.000000</td>\n",
       "      <td>0.000000</td>\n",
       "      <td>45.000000</td>\n",
       "      <td>0.000000</td>\n",
       "    </tr>\n",
       "    <tr>\n",
       "      <th>25%</th>\n",
       "      <td>1939.000000</td>\n",
       "      <td>3.300000</td>\n",
       "      <td>61.00000</td>\n",
       "      <td>98.000000</td>\n",
       "      <td>79.500000</td>\n",
       "      <td>0.000000</td>\n",
       "      <td>6.000000</td>\n",
       "      <td>0.000000</td>\n",
       "      <td>0.000000</td>\n",
       "      <td>0.000000</td>\n",
       "      <td>...</td>\n",
       "      <td>0.000000</td>\n",
       "      <td>0.000000</td>\n",
       "      <td>0.000000</td>\n",
       "      <td>0.000000</td>\n",
       "      <td>0.000000</td>\n",
       "      <td>0.000000</td>\n",
       "      <td>0.000000</td>\n",
       "      <td>0.000000</td>\n",
       "      <td>2508.000000</td>\n",
       "      <td>0.000000</td>\n",
       "    </tr>\n",
       "    <tr>\n",
       "      <th>50%</th>\n",
       "      <td>1996.000000</td>\n",
       "      <td>3.700000</td>\n",
       "      <td>83.00000</td>\n",
       "      <td>101.000000</td>\n",
       "      <td>92.000000</td>\n",
       "      <td>0.000000</td>\n",
       "      <td>15.000000</td>\n",
       "      <td>1.000000</td>\n",
       "      <td>0.000000</td>\n",
       "      <td>0.000000</td>\n",
       "      <td>...</td>\n",
       "      <td>0.000000</td>\n",
       "      <td>0.000000</td>\n",
       "      <td>0.000000</td>\n",
       "      <td>0.000000</td>\n",
       "      <td>0.000000</td>\n",
       "      <td>25.000000</td>\n",
       "      <td>25.000000</td>\n",
       "      <td>22.500000</td>\n",
       "      <td>3430.500000</td>\n",
       "      <td>0.000000</td>\n",
       "    </tr>\n",
       "    <tr>\n",
       "      <th>75%</th>\n",
       "      <td>2008.000000</td>\n",
       "      <td>4.200000</td>\n",
       "      <td>99.00000</td>\n",
       "      <td>129.000000</td>\n",
       "      <td>116.500000</td>\n",
       "      <td>1.000000</td>\n",
       "      <td>39.000000</td>\n",
       "      <td>1.000000</td>\n",
       "      <td>0.000000</td>\n",
       "      <td>1.000000</td>\n",
       "      <td>...</td>\n",
       "      <td>0.000000</td>\n",
       "      <td>0.000000</td>\n",
       "      <td>0.000000</td>\n",
       "      <td>0.000000</td>\n",
       "      <td>0.000000</td>\n",
       "      <td>500.000000</td>\n",
       "      <td>1000.000000</td>\n",
       "      <td>750.000000</td>\n",
       "      <td>4555.000000</td>\n",
       "      <td>2.000000</td>\n",
       "    </tr>\n",
       "    <tr>\n",
       "      <th>max</th>\n",
       "      <td>2020.000000</td>\n",
       "      <td>5.000000</td>\n",
       "      <td>145.00000</td>\n",
       "      <td>182.000000</td>\n",
       "      <td>163.500000</td>\n",
       "      <td>1.000000</td>\n",
       "      <td>276.000000</td>\n",
       "      <td>1.000000</td>\n",
       "      <td>1.000000</td>\n",
       "      <td>1.000000</td>\n",
       "      <td>...</td>\n",
       "      <td>1.000000</td>\n",
       "      <td>1.000000</td>\n",
       "      <td>1.000000</td>\n",
       "      <td>1.000000</td>\n",
       "      <td>1.000000</td>\n",
       "      <td>10000.000000</td>\n",
       "      <td>10000.000000</td>\n",
       "      <td>10000.000000</td>\n",
       "      <td>10678.000000</td>\n",
       "      <td>4.000000</td>\n",
       "    </tr>\n",
       "  </tbody>\n",
       "</table>\n",
       "<p>8 rows × 21 columns</p>\n",
       "</div>"
      ],
      "text/plain": [
       "           Founded       Rating  min_salary   max_salary   avg_salary  \\\n",
       "count  2000.000000  2000.000000  2000.00000  2000.000000  2000.000000   \n",
       "mean   1679.432000     3.537400    81.33700   111.820000    96.578500   \n",
       "std     716.684585     1.259919    25.19162    26.778913    25.116832   \n",
       "min      -1.000000    -1.000000    31.00000    59.000000    47.000000   \n",
       "25%    1939.000000     3.300000    61.00000    98.000000    79.500000   \n",
       "50%    1996.000000     3.700000    83.00000   101.000000    92.000000   \n",
       "75%    2008.000000     4.200000    99.00000   129.000000   116.500000   \n",
       "max    2020.000000     5.000000   145.00000   182.000000   163.500000   \n",
       "\n",
       "             At_hq  Company_age       Python            R        Spark  ...  \\\n",
       "count  2000.000000  2000.000000  2000.000000  2000.000000  2000.000000  ...   \n",
       "mean      0.381500    30.344500     0.667000     0.128000     0.273000  ...   \n",
       "std       0.485876    38.533093     0.471404     0.334173     0.445612  ...   \n",
       "min       0.000000     0.000000     0.000000     0.000000     0.000000  ...   \n",
       "25%       0.000000     6.000000     0.000000     0.000000     0.000000  ...   \n",
       "50%       0.000000    15.000000     1.000000     0.000000     0.000000  ...   \n",
       "75%       1.000000    39.000000     1.000000     0.000000     1.000000  ...   \n",
       "max       1.000000   276.000000     1.000000     1.000000     1.000000  ...   \n",
       "\n",
       "             Excel       Hadoop      Tableau     Power_bi           BI  \\\n",
       "count  2000.000000  2000.000000  2000.000000  2000.000000  2000.000000   \n",
       "mean      0.042500     0.219500     0.170500     0.046000     0.044500   \n",
       "std       0.201777     0.414011     0.376166     0.209537     0.206255   \n",
       "min       0.000000     0.000000     0.000000     0.000000     0.000000   \n",
       "25%       0.000000     0.000000     0.000000     0.000000     0.000000   \n",
       "50%       0.000000     0.000000     0.000000     0.000000     0.000000   \n",
       "75%       0.000000     0.000000     0.000000     0.000000     0.000000   \n",
       "max       1.000000     1.000000     1.000000     1.000000     1.000000   \n",
       "\n",
       "        Min_revenue   Max_revenue  Average_revenue   Desc Length  \\\n",
       "count   2000.000000   2000.000000      2000.000000   2000.000000   \n",
       "mean    1340.362000   1698.909500      1519.635750   3615.448500   \n",
       "std     3085.853188   3368.311236      3194.491176   1683.068872   \n",
       "min        0.000000      0.000000         0.000000     45.000000   \n",
       "25%        0.000000      0.000000         0.000000   2508.000000   \n",
       "50%       25.000000     25.000000        22.500000   3430.500000   \n",
       "75%      500.000000   1000.000000       750.000000   4555.000000   \n",
       "max    10000.000000  10000.000000     10000.000000  10678.000000   \n",
       "\n",
       "       Competitors Length  \n",
       "count         2000.000000  \n",
       "mean             0.720000  \n",
       "std              1.224479  \n",
       "min              0.000000  \n",
       "25%              0.000000  \n",
       "50%              0.000000  \n",
       "75%              2.000000  \n",
       "max              4.000000  \n",
       "\n",
       "[8 rows x 21 columns]"
      ]
     },
     "execution_count": 64,
     "metadata": {},
     "output_type": "execute_result"
    }
   ],
   "source": [
    "numerical_cols.describe()"
   ]
  },
  {
   "cell_type": "code",
   "execution_count": 65,
   "metadata": {
    "scrolled": true
   },
   "outputs": [
    {
     "data": {
      "text/html": [
       "<div>\n",
       "<style scoped>\n",
       "    .dataframe tbody tr th:only-of-type {\n",
       "        vertical-align: middle;\n",
       "    }\n",
       "\n",
       "    .dataframe tbody tr th {\n",
       "        vertical-align: top;\n",
       "    }\n",
       "\n",
       "    .dataframe thead th {\n",
       "        text-align: right;\n",
       "    }\n",
       "</style>\n",
       "<table border=\"1\" class=\"dataframe\">\n",
       "  <thead>\n",
       "    <tr style=\"text-align: right;\">\n",
       "      <th></th>\n",
       "      <th>Company Name</th>\n",
       "      <th>Competitors</th>\n",
       "      <th>Headquarters</th>\n",
       "      <th>Industry</th>\n",
       "      <th>Job Description</th>\n",
       "      <th>Job Title</th>\n",
       "      <th>Location</th>\n",
       "      <th>Revenue</th>\n",
       "      <th>Salary Estimate</th>\n",
       "      <th>Sector</th>\n",
       "      <th>Size</th>\n",
       "      <th>Type of ownership</th>\n",
       "      <th>City</th>\n",
       "      <th>State</th>\n",
       "      <th>Country</th>\n",
       "      <th>Job Simplified</th>\n",
       "      <th>Job Senioriry</th>\n",
       "    </tr>\n",
       "  </thead>\n",
       "  <tbody>\n",
       "    <tr>\n",
       "      <th>count</th>\n",
       "      <td>2000</td>\n",
       "      <td>2000</td>\n",
       "      <td>2000</td>\n",
       "      <td>2000</td>\n",
       "      <td>2000</td>\n",
       "      <td>2000</td>\n",
       "      <td>2000</td>\n",
       "      <td>2000</td>\n",
       "      <td>2000</td>\n",
       "      <td>2000</td>\n",
       "      <td>2000</td>\n",
       "      <td>2000</td>\n",
       "      <td>2000</td>\n",
       "      <td>2000</td>\n",
       "      <td>2000</td>\n",
       "      <td>2000</td>\n",
       "      <td>2000</td>\n",
       "    </tr>\n",
       "    <tr>\n",
       "      <th>unique</th>\n",
       "      <td>541</td>\n",
       "      <td>150</td>\n",
       "      <td>269</td>\n",
       "      <td>58</td>\n",
       "      <td>616</td>\n",
       "      <td>200</td>\n",
       "      <td>241</td>\n",
       "      <td>14</td>\n",
       "      <td>37</td>\n",
       "      <td>25</td>\n",
       "      <td>8</td>\n",
       "      <td>12</td>\n",
       "      <td>233</td>\n",
       "      <td>46</td>\n",
       "      <td>4</td>\n",
       "      <td>7</td>\n",
       "      <td>3</td>\n",
       "    </tr>\n",
       "    <tr>\n",
       "      <th>top</th>\n",
       "      <td>Q2 Solutions</td>\n",
       "      <td>-1</td>\n",
       "      <td>New York, NY</td>\n",
       "      <td>Biotech &amp; Pharmaceuticals</td>\n",
       "      <td>Q2 Solutions is a leading clinical trial labor...</td>\n",
       "      <td>Data Scientist</td>\n",
       "      <td>New York, NY</td>\n",
       "      <td>Unknown / Non-Applicable</td>\n",
       "      <td>$83K-$101K (Glassdoor est.)</td>\n",
       "      <td>Information Technology</td>\n",
       "      <td>1001 to 5000 employees</td>\n",
       "      <td>Company - Private</td>\n",
       "      <td>Cambridge</td>\n",
       "      <td>CA</td>\n",
       "      <td>USA</td>\n",
       "      <td>data scientist</td>\n",
       "      <td>senior</td>\n",
       "    </tr>\n",
       "    <tr>\n",
       "      <th>freq</th>\n",
       "      <td>56</td>\n",
       "      <td>1458</td>\n",
       "      <td>115</td>\n",
       "      <td>291</td>\n",
       "      <td>14</td>\n",
       "      <td>835</td>\n",
       "      <td>122</td>\n",
       "      <td>646</td>\n",
       "      <td>275</td>\n",
       "      <td>558</td>\n",
       "      <td>407</td>\n",
       "      <td>1234</td>\n",
       "      <td>123</td>\n",
       "      <td>447</td>\n",
       "      <td>1964</td>\n",
       "      <td>1257</td>\n",
       "      <td>1424</td>\n",
       "    </tr>\n",
       "  </tbody>\n",
       "</table>\n",
       "</div>"
      ],
      "text/plain": [
       "        Company Name Competitors  Headquarters                   Industry  \\\n",
       "count           2000        2000          2000                       2000   \n",
       "unique           541         150           269                         58   \n",
       "top     Q2 Solutions          -1  New York, NY  Biotech & Pharmaceuticals   \n",
       "freq              56        1458           115                        291   \n",
       "\n",
       "                                          Job Description       Job Title  \\\n",
       "count                                                2000            2000   \n",
       "unique                                                616             200   \n",
       "top     Q2 Solutions is a leading clinical trial labor...  Data Scientist   \n",
       "freq                                                   14             835   \n",
       "\n",
       "            Location                   Revenue              Salary Estimate  \\\n",
       "count           2000                      2000                         2000   \n",
       "unique           241                        14                           37   \n",
       "top     New York, NY  Unknown / Non-Applicable  $83K-$101K (Glassdoor est.)   \n",
       "freq             122                       646                          275   \n",
       "\n",
       "                        Sector                    Size  Type of ownership  \\\n",
       "count                     2000                    2000               2000   \n",
       "unique                      25                       8                 12   \n",
       "top     Information Technology  1001 to 5000 employees  Company - Private   \n",
       "freq                       558                     407               1234   \n",
       "\n",
       "             City State Country  Job Simplified Job Senioriry  \n",
       "count        2000  2000    2000            2000          2000  \n",
       "unique        233    46       4               7             3  \n",
       "top     Cambridge    CA     USA  data scientist        senior  \n",
       "freq          123   447    1964            1257          1424  "
      ]
     },
     "execution_count": 65,
     "metadata": {},
     "output_type": "execute_result"
    }
   ],
   "source": [
    "categorical_cols.describe()"
   ]
  },
  {
   "cell_type": "markdown",
   "metadata": {},
   "source": [
    "### Numerical variables\n"
   ]
  },
  {
   "cell_type": "code",
   "execution_count": 116,
   "metadata": {},
   "outputs": [
    {
     "data": {
      "text/plain": [
       "Index(['Founded', 'Rating', 'min_salary', 'max_salary', 'avg_salary', 'At_hq',\n",
       "       'Company_age', 'Python', 'R', 'Spark', 'AWS', 'Excel', 'Hadoop',\n",
       "       'Tableau', 'Power_bi', 'BI', 'Min_revenue', 'Max_revenue',\n",
       "       'Average_revenue', 'Desc Length', 'Competitors Length'],\n",
       "      dtype='object')"
      ]
     },
     "execution_count": 116,
     "metadata": {},
     "output_type": "execute_result"
    }
   ],
   "source": [
    "numerical_cols.columns"
   ]
  },
  {
   "cell_type": "code",
   "execution_count": 72,
   "metadata": {},
   "outputs": [
    {
     "data": {
      "image/png": "[encoded data removed]",
      "text/plain": [
       "<Figure size 432x288 with 1 Axes>"
      ]
     },
     "metadata": {
      "needs_background": "light"
     },
     "output_type": "display_data"
    }
   ],
   "source": [
    "df[df['Rating']>=0]['Rating'].hist()\n",
    "plt.show()"
   ]
  },
  {
   "cell_type": "code",
   "execution_count": 74,
   "metadata": {},
   "outputs": [
    {
     "data": {
      "text/plain": [
       "<matplotlib.axes._subplots.AxesSubplot at 0x7f9297913898>"
      ]
     },
     "execution_count": 74,
     "metadata": {},
     "output_type": "execute_result"
    },
    {
     "data": {
      "image/png": "[encoded data removed]",
      "text/plain": [
       "<Figure size 432x288 with 1 Axes>"
      ]
     },
     "metadata": {
      "needs_background": "light"
     },
     "output_type": "display_data"
    }
   ],
   "source": [
    "df['avg_salary'].hist()\n"
   ]
  },
  {
   "cell_type": "code",
   "execution_count": 79,
   "metadata": {},
   "outputs": [
    {
     "data": {
      "text/plain": [
       "<matplotlib.axes._subplots.AxesSubplot at 0x7f928ca2f710>"
      ]
     },
     "execution_count": 79,
     "metadata": {},
     "output_type": "execute_result"
    },
    {
     "data": {
      "image/png": "[encoded data removed]",
      "text/plain": [
       "<Figure size 432x288 with 1 Axes>"
      ]
     },
     "metadata": {
      "needs_background": "light"
     },
     "output_type": "display_data"
    }
   ],
   "source": [
    "df['Company_age'].hist()\n"
   ]
  },
  {
   "cell_type": "code",
   "execution_count": 80,
   "metadata": {},
   "outputs": [
    {
     "data": {
      "text/plain": [
       "<matplotlib.axes._subplots.AxesSubplot at 0x7f928ca86f60>"
      ]
     },
     "execution_count": 80,
     "metadata": {},
     "output_type": "execute_result"
    },
    {
     "data": {
      "image/png": "[encoded data removed]",
      "text/plain": [
       "<Figure size 432x288 with 1 Axes>"
      ]
     },
     "metadata": {
      "needs_background": "light"
     },
     "output_type": "display_data"
    }
   ],
   "source": [
    "df['Desc Length'].hist()\n"
   ]
  },
  {
   "cell_type": "code",
   "execution_count": 88,
   "metadata": {},
   "outputs": [
    {
     "data": {
      "text/plain": [
       "<matplotlib.axes._subplots.AxesSubplot at 0x7f92875ef9b0>"
      ]
     },
     "execution_count": 88,
     "metadata": {},
     "output_type": "execute_result"
    },
    {
     "data": {
      "image/png": "[encoded data removed]",
      "text/plain": [
       "<Figure size 432x288 with 1 Axes>"
      ]
     },
     "metadata": {},
     "output_type": "display_data"
    }
   ],
   "source": [
    "#sns.set(style=\"whitegrid\")\n",
    "sns.boxplot(x=df[\"Rating\"])"
   ]
  },
  {
   "cell_type": "code",
   "execution_count": 89,
   "metadata": {},
   "outputs": [
    {
     "data": {
      "text/plain": [
       "<matplotlib.axes._subplots.AxesSubplot at 0x7f9287ced2b0>"
      ]
     },
     "execution_count": 89,
     "metadata": {},
     "output_type": "execute_result"
    },
    {
     "data": {
      "image/png": "[encoded data removed]",
      "text/plain": [
       "<Figure size 432x288 with 1 Axes>"
      ]
     },
     "metadata": {},
     "output_type": "display_data"
    }
   ],
   "source": [
    "df.boxplot(column=['Company_age','avg_salary'])"
   ]
  },
  {
   "cell_type": "code",
   "execution_count": 117,
   "metadata": {},
   "outputs": [],
   "source": [
    "corr=df[['Company_age','avg_salary','Rating','Desc Length','Competitors Length']].corr()"
   ]
  },
  {
   "cell_type": "code",
   "execution_count": 118,
   "metadata": {},
   "outputs": [
    {
     "data": {
      "text/plain": [
       "<matplotlib.axes._subplots.AxesSubplot at 0x7f928684e9b0>"
      ]
     },
     "execution_count": 118,
     "metadata": {},
     "output_type": "execute_result"
    },
    {
     "data": {
      "image/png": "[encoded data removed]",
      "text/plain": [
       "<Figure size 432x288 with 2 Axes>"
      ]
     },
     "metadata": {},
     "output_type": "display_data"
    }
   ],
   "source": [
    "sns.heatmap(corr,vmax=1,vmin=-1,center=0,linewidths=.5)"
   ]
  },
  {
   "cell_type": "markdown",
   "metadata": {},
   "source": [
    "### Categorical variables\n"
   ]
  },
  {
   "cell_type": "code",
   "execution_count": 121,
   "metadata": {},
   "outputs": [
    {
     "data": {
      "text/plain": [
       "['Company Name',\n",
       " 'Competitors',\n",
       " 'Headquarters',\n",
       " 'Industry',\n",
       " 'Job Description',\n",
       " 'Job Title',\n",
       " 'Location',\n",
       " 'Revenue',\n",
       " 'Salary Estimate',\n",
       " 'Sector',\n",
       " 'Size',\n",
       " 'Type of ownership',\n",
       " 'City',\n",
       " 'State',\n",
       " 'Country',\n",
       " 'Job Simplified',\n",
       " 'Job Senioriry']"
      ]
     },
     "execution_count": 121,
     "metadata": {},
     "output_type": "execute_result"
    }
   ],
   "source": [
    "cat=list(categorical_cols.columns)\n",
    "cat"
   ]
  },
  {
   "cell_type": "code",
   "execution_count": null,
   "metadata": {},
   "outputs": [],
   "source": [
    "['Company Name',\n",
    "'Competitors',\n",
    " 'Headquarters',\n",
    " 'Industry',\n",
    " 'Job Description',\n",
    " 'Job Title',\n",
    " 'Location',\n",
    " 'Revenue',\n",
    " 'Salary Estimate',\n",
    " 'Sector',\n",
    " 'Size',\n",
    " 'Type of ownership',\n",
    " 'City',\n",
    " 'State',\n",
    " 'Country',\n",
    " 'Job Simplified',\n",
    " 'Job Senioriry']\n"
   ]
  }
 ],
 "metadata": {
  "kernelspec": {
   "display_name": "Python 3",
   "language": "python",
   "name": "python3"
  },
  "language_info": {
   "codemirror_mode": {
    "name": "ipython",
    "version": 3
   },
   "file_extension": ".py",
   "mimetype": "text/x-python",
   "name": "python",
   "nbconvert_exporter": "python",
   "pygments_lexer": "ipython3",
   "version": "3.6.8"
  }
 },
 "nbformat": 4,
 "nbformat_minor": 2
}
